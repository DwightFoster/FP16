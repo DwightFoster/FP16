{
 "cells": [
  {
   "cell_type": "code",
   "execution_count": 1,
   "metadata": {},
   "outputs": [],
   "source": [
    "import torch\n",
    "import time\n",
    "import copy\n",
    "import matplotlib.pyplot as plt\n",
    "import numpy as np\n",
    "import torchvision.utils as vutils"
   ]
  },
  {
   "cell_type": "code",
   "execution_count": 2,
   "metadata": {},
   "outputs": [],
   "source": [
    "from torchvision import models, datasets,transforms\n",
    "import torchvision\n",
    "import torch.nn as nn"
   ]
  },
  {
   "cell_type": "code",
   "execution_count": 3,
   "metadata": {},
   "outputs": [
    {
     "data": {
      "text/plain": [
       "120"
      ]
     },
     "execution_count": 3,
     "metadata": {},
     "output_type": "execute_result"
    }
   ],
   "source": [
    "import os \n",
    "len(os.listdir('/Users/PS/Documents/Python Scripts/Images'))"
   ]
  },
  {
   "cell_type": "code",
   "execution_count": 4,
   "metadata": {},
   "outputs": [
    {
     "name": "stdout",
     "output_type": "stream",
     "text": [
      "20580\n"
     ]
    }
   ],
   "source": [
    "data = torchvision.datasets.ImageFolder('/Users/PS/Documents/Python Scripts/Images', transform=transforms.Compose([transforms.Resize((224,224)),transforms.ToTensor()]))\n",
    "data_loader = torch.utils.data.DataLoader(data, batch_size=32,\n",
    "                                             shuffle=True, num_workers=4)\n",
    "dataset_sizes = len(data)\n",
    "print(dataset_sizes)\n"
   ]
  },
  {
   "cell_type": "code",
   "execution_count": 5,
   "metadata": {},
   "outputs": [
    {
     "name": "stdout",
     "output_type": "stream",
     "text": [
      "torch.Size([32, 3, 224, 224])\n"
     ]
    }
   ],
   "source": [
    "images,labels = next(iter(data_loader))\n",
    "print(images.shape)"
   ]
  },
  {
   "cell_type": "code",
   "execution_count": 6,
   "metadata": {},
   "outputs": [],
   "source": [
    "model = models.mobilenet_v2(pretrained=True)"
   ]
  },
  {
   "cell_type": "code",
   "execution_count": 7,
   "metadata": {},
   "outputs": [],
   "source": [
    "device = torch.device(\"cuda:0\" if torch.cuda.is_available() else \"cpu\")\n",
    "\n"
   ]
  },
  {
   "cell_type": "code",
   "execution_count": 8,
   "metadata": {},
   "outputs": [],
   "source": [
    "optimizer = torch.optim.SGD(model.parameters(),lr=0.001)\n",
    "criterion = torch.nn.CrossEntropyLoss()"
   ]
  },
  {
   "cell_type": "code",
   "execution_count": 9,
   "metadata": {},
   "outputs": [],
   "source": [
    "model.classifier[1] = torch.nn.Linear(1280,120)\n",
    "\n",
    "model = model.to(device)\n"
   ]
  },
  {
   "cell_type": "code",
   "execution_count": 10,
   "metadata": {},
   "outputs": [
    {
     "name": "stdout",
     "output_type": "stream",
     "text": [
      "Epoch 0/4\n",
      "----------\n",
      " Loss: 4.7606 Acc: 0.0167\n",
      "\n",
      "Training complete in 1m 6s\n",
      "Epoch 1/4\n",
      "----------\n",
      " Loss: 4.4974 Acc: 0.0622\n",
      "\n",
      "Training complete in 2m 10s\n",
      "Epoch 2/4\n",
      "----------\n",
      " Loss: 4.2371 Acc: 0.1461\n",
      "\n",
      "Training complete in 3m 15s\n",
      "Epoch 3/4\n",
      "----------\n",
      " Loss: 3.9896 Acc: 0.2203\n",
      "\n",
      "Training complete in 4m 19s\n",
      "Epoch 4/4\n",
      "----------\n",
      " Loss: 3.7781 Acc: 0.2761\n",
      "\n",
      "Training complete in 5m 23s\n"
     ]
    }
   ],
   "source": [
    "\n",
    "since = time.time()\n",
    "\n",
    "best_model_wts = copy.deepcopy(model.state_dict())\n",
    "best_acc = 0.0\n",
    "\n",
    "for epoch in range(5):\n",
    "    print('Epoch {}/{}'.format(epoch, 5 - 1))\n",
    "    print('-' * 10)\n",
    "\n",
    "    # Each epoch has a training and validation phase\n",
    "     # Set model to evaluate mode\n",
    "\n",
    "    running_loss = 0.0\n",
    "    running_corrects = 0\n",
    "\n",
    "            # Iterate over data.\n",
    "    for batch_size,(inputs, labels) in enumerate(data_loader):\n",
    "        inputs = inputs.to(device)\n",
    "        labels = labels.to(device)\n",
    "\n",
    "                # zero the parameter gradients\n",
    "        optimizer.zero_grad()\n",
    "\n",
    "                # forward\n",
    "                # track history if only in train\n",
    "            \n",
    "        outputs = model(inputs)\n",
    "        _, preds = torch.max(outputs, 1)\n",
    "        loss = criterion(outputs, labels)\n",
    "\n",
    "                    # backward + optimize only if in training phase\n",
    "            \n",
    "        loss.backward()\n",
    "        optimizer.step()\n",
    "\n",
    "                # statistics\n",
    "        running_loss += loss.item() * inputs.size(0)\n",
    "        running_corrects += torch.sum(preds == labels.data)\n",
    "\n",
    "        epoch_loss = running_loss / dataset_sizes\n",
    "        epoch_acc = running_corrects.double() / dataset_sizes\n",
    "\n",
    "    print(' Loss: {:.4f} Acc: {:.4f}'.format(\n",
    "                 epoch_loss, epoch_acc))\n",
    "\n",
    "            # deep copy the model\n",
    "            \n",
    "    print()\n",
    "\n",
    "    time_elapsed = time.time() - since\n",
    "    print('Training complete in {:.0f}m {:.0f}s'.format(\n",
    "        time_elapsed // 60, time_elapsed % 60))\n",
    "    "
   ]
  },
  {
   "cell_type": "code",
   "execution_count": 11,
   "metadata": {},
   "outputs": [],
   "source": [
    "model.half()  # convert to half precision\n",
    "for layer in model.modules():\n",
    "  if isinstance(layer, nn.BatchNorm2d):\n",
    "    layer.float()"
   ]
  },
  {
   "cell_type": "code",
   "execution_count": 12,
   "metadata": {},
   "outputs": [
    {
     "name": "stdout",
     "output_type": "stream",
     "text": [
      "Epoch 0/4\n",
      "----------\n",
      " Loss: 3.6390 Acc: 0.3079\n",
      "\n",
      "Training complete in 0m 56s\n",
      "Epoch 1/4\n",
      "----------\n",
      " Loss: 3.5591 Acc: 0.3262\n",
      "\n",
      "Training complete in 1m 51s\n",
      "Epoch 2/4\n",
      "----------\n",
      " Loss: 3.4858 Acc: 0.3427\n",
      "\n",
      "Training complete in 2m 46s\n",
      "Epoch 3/4\n",
      "----------\n",
      " Loss: 3.4215 Acc: 0.3552\n",
      "\n",
      "Training complete in 3m 40s\n",
      "Epoch 4/4\n",
      "----------\n",
      " Loss: 3.3594 Acc: 0.3683\n",
      "\n",
      "Training complete in 4m 35s\n"
     ]
    }
   ],
   "source": [
    "since = time.time()\n",
    "\n",
    "best_model_wts = copy.deepcopy(model.state_dict())\n",
    "best_acc = 0.0\n",
    "\n",
    "for epoch in range(5):\n",
    "    print('Epoch {}/{}'.format(epoch, 5 - 1))\n",
    "    print('-' * 10)\n",
    "\n",
    "    # Each epoch has a training and validation phase\n",
    "     # Set model to evaluate mode\n",
    "\n",
    "    running_loss = 0.0\n",
    "    running_corrects = 0\n",
    "\n",
    "            # Iterate over data.\n",
    "    for batch_size,(inputs, labels) in enumerate(data_loader):\n",
    "        inputs = inputs.to(device).half()\n",
    "        labels = labels.to(device)\n",
    "\n",
    "                # zero the parameter gradients\n",
    "        optimizer.zero_grad()\n",
    "       \n",
    "        \n",
    "                # forward\n",
    "                # track history if only in train\n",
    "            \n",
    "        outputs = model(inputs)\n",
    "        _, preds = torch.max(outputs, 1)\n",
    "        loss = criterion(outputs, labels)\n",
    "\n",
    "                    # backward + optimize only if in training phase\n",
    "        loss.backward()    \n",
    "        #with amp.scale_loss(loss, optimizer) as scaled_loss:\n",
    "            #scaled_loss.backward()\n",
    "        optimizer.step()\n",
    "\n",
    "                # statistics\n",
    "        running_loss += loss.item() * inputs.size(0)\n",
    "        running_corrects += torch.sum(preds == labels.data)\n",
    "\n",
    "        epoch_loss = running_loss / dataset_sizes\n",
    "        epoch_acc = running_corrects.double() / dataset_sizes\n",
    "\n",
    "    print(' Loss: {:.4f} Acc: {:.4f}'.format(\n",
    "                 epoch_loss, epoch_acc))\n",
    "\n",
    "            # deep copy the model\n",
    "            \n",
    "    print()\n",
    "\n",
    "    time_elapsed = time.time() - since\n",
    "    print('Training complete in {:.0f}m {:.0f}s'.format(\n",
    "        time_elapsed // 60, time_elapsed % 60))\n",
    "    "
   ]
  },
  {
   "cell_type": "code",
   "execution_count": null,
   "metadata": {},
   "outputs": [],
   "source": [
    "  "
   ]
  }
 ],
 "metadata": {
  "kernelspec": {
   "display_name": "Python 3",
   "language": "python",
   "name": "python3"
  },
  "language_info": {
   "codemirror_mode": {
    "name": "ipython",
    "version": 3
   },
   "file_extension": ".py",
   "mimetype": "text/x-python",
   "name": "python",
   "nbconvert_exporter": "python",
   "pygments_lexer": "ipython3",
   "version": "3.7.3"
  }
 },
 "nbformat": 4,
 "nbformat_minor": 2
}
